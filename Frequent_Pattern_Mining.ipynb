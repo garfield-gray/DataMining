{
  "nbformat": 4,
  "nbformat_minor": 0,
  "metadata": {
    "colab": {
      "provenance": [],
      "mount_file_id": "1qvim3K0Y1KxXYXTDozJiKqgQ2zsI3niO",
      "authorship_tag": "ABX9TyMAjoWFwZtgL194WTUYyzIr",
      "include_colab_link": true
    },
    "kernelspec": {
      "name": "python3",
      "display_name": "Python 3"
    },
    "language_info": {
      "name": "python"
    }
  },
  "cells": [
    {
      "cell_type": "markdown",
      "metadata": {
        "id": "view-in-github",
        "colab_type": "text"
      },
      "source": [
        "<a href=\"https://colab.research.google.com/github/garfield-gray/DataMining/blob/main/Frequent_Pattern_Mining.ipynb\" target=\"_parent\"><img src=\"https://colab.research.google.com/assets/colab-badge.svg\" alt=\"Open In Colab\"/></a>"
      ]
    },
    {
      "cell_type": "code",
      "source": [
        "!pip install pyspark"
      ],
      "metadata": {
        "colab": {
          "base_uri": "https://localhost:8080/"
        },
        "id": "c_W6Lr4jQkvK",
        "outputId": "ca9857a3-1cab-49d9-e8e4-2e449d45296f"
      },
      "execution_count": 36,
      "outputs": [
        {
          "output_type": "stream",
          "name": "stdout",
          "text": [
            "Requirement already satisfied: pyspark in /usr/local/lib/python3.10/dist-packages (3.5.1)\n",
            "Requirement already satisfied: py4j==0.10.9.7 in /usr/local/lib/python3.10/dist-packages (from pyspark) (0.10.9.7)\n"
          ]
        }
      ]
    },
    {
      "cell_type": "code",
      "execution_count": 37,
      "metadata": {
        "id": "ppWr-hOtHPYP"
      },
      "outputs": [],
      "source": [
        "# Recheck the Preprocessing based on the new data info and based on the needs!\n",
        "import numpy as np\n",
        "from pyspark.sql import SparkSession\n",
        "from pyspark.sql import functions as F\n",
        "import matplotlib.pyplot as plt\n",
        "import seaborn as sns\n"
      ]
    },
    {
      "cell_type": "markdown",
      "source": [
        "#Theoretical"
      ],
      "metadata": {
        "id": "noXBi4r9O8sZ"
      }
    },
    {
      "cell_type": "code",
      "source": [],
      "metadata": {
        "id": "6DLQEyHPO_R8"
      },
      "execution_count": 37,
      "outputs": []
    },
    {
      "cell_type": "code",
      "source": [],
      "metadata": {
        "id": "Y2sSCWh1O_Ua"
      },
      "execution_count": 37,
      "outputs": []
    },
    {
      "cell_type": "code",
      "source": [],
      "metadata": {
        "id": "79bRhZXjO_i2"
      },
      "execution_count": 37,
      "outputs": []
    },
    {
      "cell_type": "code",
      "source": [],
      "metadata": {
        "id": "JHWOGpnYO_kc"
      },
      "execution_count": 37,
      "outputs": []
    },
    {
      "cell_type": "code",
      "source": [],
      "metadata": {
        "id": "o3_W85sDO_nD"
      },
      "execution_count": 37,
      "outputs": []
    },
    {
      "cell_type": "markdown",
      "source": [
        "#Imperical"
      ],
      "metadata": {
        "id": "PsXejG-qO9EY"
      }
    },
    {
      "cell_type": "markdown",
      "source": [
        "##A"
      ],
      "metadata": {
        "id": "1XgXD7ifPRpO"
      }
    },
    {
      "cell_type": "code",
      "source": [
        "#Going into the directory\n",
        "#    \"Address of files\"\n",
        "%cd /content/drive/MyDrive/Uni/Data/DataMining/Winter2024/CA#3\n",
        "!ls"
      ],
      "metadata": {
        "colab": {
          "base_uri": "https://localhost:8080/"
        },
        "id": "HMJJ55fkJmvK",
        "outputId": "d2f06a96-8707-4a91-8fcc-07e2c48f5cdd"
      },
      "execution_count": 38,
      "outputs": [
        {
          "output_type": "stream",
          "name": "stdout",
          "text": [
            "/content/drive/MyDrive/Uni/Data/DataMining/Winter2024/CA#3\n",
            " CA#3Report.docx  'Frequent Pattern Mining.ipynb'   Groceries.csv\n"
          ]
        }
      ]
    },
    {
      "cell_type": "code",
      "source": [
        "\n",
        "spark = SparkSession.builder.appName(\n",
        "    'Read CSV File into DataFrame').getOrCreate()\n",
        "\n",
        "Groceries = spark.read.csv('Groceries.csv', sep=',',\n",
        "                         inferSchema=True, header=True)"
      ],
      "metadata": {
        "id": "WIf8153HPExR"
      },
      "execution_count": 39,
      "outputs": []
    },
    {
      "cell_type": "code",
      "source": [
        "Groceries.show(n=5)"
      ],
      "metadata": {
        "colab": {
          "base_uri": "https://localhost:8080/"
        },
        "id": "xFx8PzKYPE7g",
        "outputId": "a4e952ca-6ec1-490e-9458-7e500bad863a"
      },
      "execution_count": 40,
      "outputs": [
        {
          "output_type": "stream",
          "name": "stdout",
          "text": [
            "+-------------+----------+----------------+\n",
            "|Member_number|      Date| itemDescription|\n",
            "+-------------+----------+----------------+\n",
            "|         1808|21-07-2015|  tropical fruit|\n",
            "|         2552|05-01-2015|      whole milk|\n",
            "|         2300|19-09-2015|       pip fruit|\n",
            "|         1187|12-12-2015|other vegetables|\n",
            "|         3037|01-02-2015|      whole milk|\n",
            "+-------------+----------+----------------+\n",
            "only showing top 5 rows\n",
            "\n"
          ]
        }
      ]
    },
    {
      "cell_type": "code",
      "source": [
        "Groceries.count()"
      ],
      "metadata": {
        "colab": {
          "base_uri": "https://localhost:8080/"
        },
        "id": "djzUIVQV8xRr",
        "outputId": "bdda70c5-6277-48ab-8aa1-1341537416ad"
      },
      "execution_count": 41,
      "outputs": [
        {
          "output_type": "execute_result",
          "data": {
            "text/plain": [
              "38765"
            ]
          },
          "metadata": {},
          "execution_count": 41
        }
      ]
    },
    {
      "cell_type": "code",
      "source": [
        "GroceriesItems = Groceries.drop('Date')"
      ],
      "metadata": {
        "id": "lXD9pVRl9Sl2"
      },
      "execution_count": 42,
      "outputs": []
    },
    {
      "cell_type": "code",
      "source": [
        "GroceriesItems.show()"
      ],
      "metadata": {
        "colab": {
          "base_uri": "https://localhost:8080/"
        },
        "id": "skoFYA-S98xX",
        "outputId": "f862c73a-b0cf-4e59-b9c4-5dd462e40043"
      },
      "execution_count": 43,
      "outputs": [
        {
          "output_type": "stream",
          "name": "stdout",
          "text": [
            "+-------------+--------------------+\n",
            "|Member_number|     itemDescription|\n",
            "+-------------+--------------------+\n",
            "|         1808|      tropical fruit|\n",
            "|         2552|          whole milk|\n",
            "|         2300|           pip fruit|\n",
            "|         1187|    other vegetables|\n",
            "|         3037|          whole milk|\n",
            "|         4941|          rolls/buns|\n",
            "|         4501|    other vegetables|\n",
            "|         3803|          pot plants|\n",
            "|         2762|          whole milk|\n",
            "|         4119|      tropical fruit|\n",
            "|         1340|        citrus fruit|\n",
            "|         2193|                beef|\n",
            "|         1997|         frankfurter|\n",
            "|         4546|             chicken|\n",
            "|         4736|              butter|\n",
            "|         1959|fruit/vegetable j...|\n",
            "|         1974|packaged fruit/ve...|\n",
            "|         2421|           chocolate|\n",
            "|         1513|       specialty bar|\n",
            "|         1905|    other vegetables|\n",
            "+-------------+--------------------+\n",
            "only showing top 20 rows\n",
            "\n"
          ]
        }
      ]
    },
    {
      "cell_type": "markdown",
      "source": [
        "##B"
      ],
      "metadata": {
        "id": "9XSkKSrVPTgO"
      }
    },
    {
      "cell_type": "code",
      "source": [
        "MemeberGroceries = GroceriesItems.groupBy(\"Member_number\").agg(F.concat_ws(\", \", F.collect_list(GroceriesItems.itemDescription)))\n",
        "MemeberGroceries.show()"
      ],
      "metadata": {
        "colab": {
          "base_uri": "https://localhost:8080/"
        },
        "id": "iotZujBxPlY-",
        "outputId": "c01b04ca-8caf-4419-e1aa-cce16359fa05"
      },
      "execution_count": 44,
      "outputs": [
        {
          "output_type": "stream",
          "name": "stdout",
          "text": [
            "+-------------+--------------------------------------------+\n",
            "|Member_number|concat_ws(, , collect_list(itemDescription))|\n",
            "+-------------+--------------------------------------------+\n",
            "|         1000|                        soda, canned beer...|\n",
            "|         1001|                        frankfurter, fran...|\n",
            "|         1002|                        tropical fruit, b...|\n",
            "|         1003|                        sausage, root veg...|\n",
            "|         1004|                        other vegetables,...|\n",
            "|         1005|                        whipped/sour crea...|\n",
            "|         1006|                        whole milk, frank...|\n",
            "|         1008|                        hamburger meat, t...|\n",
            "|         1009|                        herbs, pastry, tr...|\n",
            "|         1010|                        pip fruit, frankf...|\n",
            "|         1011|                        whole milk, frank...|\n",
            "|         1012|                        frankfurter, proc...|\n",
            "|         1013|                        frozen meals, whi...|\n",
            "|         1014|                        whole milk, canne...|\n",
            "|         1015|                        citrus fruit, sal...|\n",
            "|         1016|                        UHT-milk, soft ch...|\n",
            "|         1017|                        soda, other veget...|\n",
            "|         1018|                        butter milk, curd...|\n",
            "|         1019|                        hamburger meat, r...|\n",
            "|         1020|                        canned beer, cann...|\n",
            "+-------------+--------------------------------------------+\n",
            "only showing top 20 rows\n",
            "\n"
          ]
        }
      ]
    },
    {
      "cell_type": "code",
      "source": [
        "GroceriesItems.where(GroceriesItems.Member_number == 1002).show()"
      ],
      "metadata": {
        "colab": {
          "base_uri": "https://localhost:8080/"
        },
        "id": "LxmAEac6EIHr",
        "outputId": "ca559b4c-1bb5-48a6-b11f-8ba9aa39f8e8"
      },
      "execution_count": 45,
      "outputs": [
        {
          "output_type": "stream",
          "name": "stdout",
          "text": [
            "+-------------+-------------------+\n",
            "|Member_number|    itemDescription|\n",
            "+-------------+-------------------+\n",
            "|         1002|     tropical fruit|\n",
            "|         1002|        butter milk|\n",
            "|         1002|             butter|\n",
            "|         1002|  frozen vegetables|\n",
            "|         1002|              sugar|\n",
            "|         1002|specialty chocolate|\n",
            "|         1002|         whole milk|\n",
            "|         1002|   other vegetables|\n",
            "+-------------+-------------------+\n",
            "\n"
          ]
        }
      ]
    },
    {
      "cell_type": "code",
      "source": [
        "MemeberGroceries.collect()[2][1]"
      ],
      "metadata": {
        "colab": {
          "base_uri": "https://localhost:8080/",
          "height": 35
        },
        "id": "NmnySNhPSTww",
        "outputId": "8e46b652-6185-4f3b-c341-eedec03f887d"
      },
      "execution_count": 46,
      "outputs": [
        {
          "output_type": "execute_result",
          "data": {
            "text/plain": [
              "'tropical fruit, butter milk, butter, frozen vegetables, sugar, specialty chocolate, whole milk, other vegetables'"
            ],
            "application/vnd.google.colaboratory.intrinsic+json": {
              "type": "string"
            }
          },
          "metadata": {},
          "execution_count": 46
        }
      ]
    },
    {
      "cell_type": "code",
      "source": [
        "MemeberGroceries.where(MemeberGroceries.Member_number == 1002).show()"
      ],
      "metadata": {
        "colab": {
          "base_uri": "https://localhost:8080/"
        },
        "id": "XUMdSxD6B1FG",
        "outputId": "320d727f-24ae-400f-8c5c-e694f856c87d"
      },
      "execution_count": 47,
      "outputs": [
        {
          "output_type": "stream",
          "name": "stdout",
          "text": [
            "+-------------+--------------------------------------------+\n",
            "|Member_number|concat_ws(, , collect_list(itemDescription))|\n",
            "+-------------+--------------------------------------------+\n",
            "|         1002|                        tropical fruit, b...|\n",
            "+-------------+--------------------------------------------+\n",
            "\n"
          ]
        }
      ]
    },
    {
      "cell_type": "code",
      "source": [
        "type(MemeberGroceries.collect()[2][1])"
      ],
      "metadata": {
        "colab": {
          "base_uri": "https://localhost:8080/"
        },
        "id": "iwwZ5shCB1aF",
        "outputId": "1ffcf298-045f-4b90-fd36-71d05fe14393"
      },
      "execution_count": 48,
      "outputs": [
        {
          "output_type": "execute_result",
          "data": {
            "text/plain": [
              "str"
            ]
          },
          "metadata": {},
          "execution_count": 48
        }
      ]
    },
    {
      "cell_type": "code",
      "source": [
        "#changing the str to list\n",
        "\n",
        "MemeberGroceriesList = MemeberGroceries.select(F.col(\"Member_number\"),\n",
        "                F.split(F.col(\"concat_ws(, , collect_list(itemDescription))\"),\",\").alias(\"itemDescription_Arr\"),\n",
        "                ).drop(\"concat_ws(, , collect_list(itemDescription))\")\n",
        "\n",
        "MemeberGroceriesList.show()"
      ],
      "metadata": {
        "colab": {
          "base_uri": "https://localhost:8080/"
        },
        "id": "OOAfOdpaGYSw",
        "outputId": "9cffb0bd-8f9c-4cd3-dbfc-60e464f9b6cb"
      },
      "execution_count": 56,
      "outputs": [
        {
          "output_type": "stream",
          "name": "stdout",
          "text": [
            "+-------------+--------------------+\n",
            "|Member_number| itemDescription_Arr|\n",
            "+-------------+--------------------+\n",
            "|         1000|[soda,  canned be...|\n",
            "|         1001|[frankfurter,  fr...|\n",
            "|         1002|[tropical fruit, ...|\n",
            "|         1003|[sausage,  root v...|\n",
            "|         1004|[other vegetables...|\n",
            "|         1005|[whipped/sour cre...|\n",
            "|         1006|[whole milk,  fra...|\n",
            "|         1008|[hamburger meat, ...|\n",
            "|         1009|[herbs,  pastry, ...|\n",
            "|         1010|[pip fruit,  fran...|\n",
            "|         1011|[whole milk,  fra...|\n",
            "|         1012|[frankfurter,  pr...|\n",
            "|         1013|[frozen meals,  w...|\n",
            "|         1014|[whole milk,  can...|\n",
            "|         1015|[citrus fruit,  s...|\n",
            "|         1016|[UHT-milk,  soft ...|\n",
            "|         1017|[soda,  other veg...|\n",
            "|         1018|[butter milk,  cu...|\n",
            "|         1019|[hamburger meat, ...|\n",
            "|         1020|[canned beer,  ca...|\n",
            "+-------------+--------------------+\n",
            "only showing top 20 rows\n",
            "\n"
          ]
        }
      ]
    },
    {
      "cell_type": "code",
      "source": [
        "(MemeberGroceriesList.collect()[9][1])"
      ],
      "metadata": {
        "colab": {
          "base_uri": "https://localhost:8080/"
        },
        "id": "LJZu91qOLvjv",
        "outputId": "398b2aa1-df74-4361-8a61-aab7cb773c10"
      },
      "execution_count": 62,
      "outputs": [
        {
          "output_type": "execute_result",
          "data": {
            "text/plain": [
              "['pip fruit',\n",
              " ' frankfurter',\n",
              " ' pip fruit',\n",
              " ' bottled water',\n",
              " ' candles',\n",
              " ' bottled water',\n",
              " ' coffee',\n",
              " ' specialty bar',\n",
              " ' kitchen towels',\n",
              " ' rolls/buns',\n",
              " ' UHT-milk',\n",
              " ' sliced cheese']"
            ]
          },
          "metadata": {},
          "execution_count": 62
        }
      ]
    },
    {
      "cell_type": "code",
      "source": [
        "MGLBiggerCutommers = MemeberGroceriesList.filter((F.size(MemeberGroceriesList.itemDescription_Arr) > 10))"
      ],
      "metadata": {
        "id": "v1eN1S2wPXyb"
      },
      "execution_count": 66,
      "outputs": []
    },
    {
      "cell_type": "code",
      "source": [
        "MGLBiggerCutommers.show()"
      ],
      "metadata": {
        "colab": {
          "base_uri": "https://localhost:8080/"
        },
        "id": "eS4KR83nReEA",
        "outputId": "68be452b-4108-4815-fa35-45602e45fad3"
      },
      "execution_count": 68,
      "outputs": [
        {
          "output_type": "stream",
          "name": "stdout",
          "text": [
            "+-------------+--------------------+\n",
            "|Member_number| itemDescription_Arr|\n",
            "+-------------+--------------------+\n",
            "|         1000|[soda,  canned be...|\n",
            "|         1001|[frankfurter,  fr...|\n",
            "|         1004|[other vegetables...|\n",
            "|         1006|[whole milk,  fra...|\n",
            "|         1008|[hamburger meat, ...|\n",
            "|         1010|[pip fruit,  fran...|\n",
            "|         1011|[whole milk,  fra...|\n",
            "|         1012|[frankfurter,  pr...|\n",
            "|         1013|[frozen meals,  w...|\n",
            "|         1016|[UHT-milk,  soft ...|\n",
            "|         1017|[soda,  other veg...|\n",
            "|         1023|[white bread,  wh...|\n",
            "|         1026|[fruit/vegetable ...|\n",
            "|         1028|[specialty chocol...|\n",
            "|         1032|[berries,  yogurt...|\n",
            "|         1033|[tropical fruit, ...|\n",
            "|         1035|[whole milk,  who...|\n",
            "|         1038|[other vegetables...|\n",
            "|         1040|[tropical fruit, ...|\n",
            "|         1050|[meat,  UHT-milk,...|\n",
            "+-------------+--------------------+\n",
            "only showing top 20 rows\n",
            "\n"
          ]
        }
      ]
    },
    {
      "cell_type": "markdown",
      "source": [
        "##C"
      ],
      "metadata": {
        "id": "dhQxuo07PVhI"
      }
    },
    {
      "cell_type": "code",
      "source": [],
      "metadata": {
        "id": "UGAGNTwVPW7X"
      },
      "execution_count": null,
      "outputs": []
    },
    {
      "cell_type": "code",
      "source": [],
      "metadata": {
        "id": "l1h5oOooPXdf"
      },
      "execution_count": null,
      "outputs": []
    },
    {
      "cell_type": "markdown",
      "source": [
        "##D"
      ],
      "metadata": {
        "id": "Q6gA_5uQPX3N"
      }
    },
    {
      "cell_type": "code",
      "source": [],
      "metadata": {
        "id": "T3T7FgzNPYWx"
      },
      "execution_count": null,
      "outputs": []
    }
  ]
}