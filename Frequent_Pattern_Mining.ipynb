{
  "nbformat": 4,
  "nbformat_minor": 0,
  "metadata": {
    "colab": {
      "provenance": [],
      "mount_file_id": "1qvim3K0Y1KxXYXTDozJiKqgQ2zsI3niO",
      "authorship_tag": "ABX9TyNMnRTN/SKrisN4Ktr6AJ7J",
      "include_colab_link": true
    },
    "kernelspec": {
      "name": "python3",
      "display_name": "Python 3"
    },
    "language_info": {
      "name": "python"
    }
  },
  "cells": [
    {
      "cell_type": "markdown",
      "metadata": {
        "id": "view-in-github",
        "colab_type": "text"
      },
      "source": [
        "<a href=\"https://colab.research.google.com/github/garfield-gray/DataMining/blob/main/Frequent_Pattern_Mining.ipynb\" target=\"_parent\"><img src=\"https://colab.research.google.com/assets/colab-badge.svg\" alt=\"Open In Colab\"/></a>"
      ]
    },
    {
      "cell_type": "code",
      "source": [
        "!pip install pyspark"
      ],
      "metadata": {
        "colab": {
          "base_uri": "https://localhost:8080/"
        },
        "id": "c_W6Lr4jQkvK",
        "outputId": "2a80e365-8a89-47e7-ea17-bd5bc90aed98"
      },
      "execution_count": null,
      "outputs": [
        {
          "output_type": "stream",
          "name": "stdout",
          "text": [
            "Requirement already satisfied: pyspark in /usr/local/lib/python3.10/dist-packages (3.5.1)\n",
            "Requirement already satisfied: py4j==0.10.9.7 in /usr/local/lib/python3.10/dist-packages (from pyspark) (0.10.9.7)\n"
          ]
        }
      ]
    },
    {
      "cell_type": "code",
      "execution_count": null,
      "metadata": {
        "id": "ppWr-hOtHPYP"
      },
      "outputs": [],
      "source": [
        "# Recheck the Preprocessing based on the new data info and based on the needs!\n",
        "import numpy as np\n",
        "from pyspark.sql import SparkSession\n",
        "from pyspark.sql import functions as F\n",
        "import matplotlib.pyplot as plt\n",
        "import seaborn as sns\n"
      ]
    },
    {
      "cell_type": "markdown",
      "source": [
        "#Theoretical"
      ],
      "metadata": {
        "id": "noXBi4r9O8sZ"
      }
    },
    {
      "cell_type": "code",
      "source": [],
      "metadata": {
        "id": "6DLQEyHPO_R8"
      },
      "execution_count": null,
      "outputs": []
    },
    {
      "cell_type": "code",
      "source": [],
      "metadata": {
        "id": "Y2sSCWh1O_Ua"
      },
      "execution_count": null,
      "outputs": []
    },
    {
      "cell_type": "code",
      "source": [],
      "metadata": {
        "id": "79bRhZXjO_i2"
      },
      "execution_count": null,
      "outputs": []
    },
    {
      "cell_type": "code",
      "source": [],
      "metadata": {
        "id": "JHWOGpnYO_kc"
      },
      "execution_count": null,
      "outputs": []
    },
    {
      "cell_type": "code",
      "source": [],
      "metadata": {
        "id": "o3_W85sDO_nD"
      },
      "execution_count": null,
      "outputs": []
    },
    {
      "cell_type": "markdown",
      "source": [
        "#Imperical"
      ],
      "metadata": {
        "id": "PsXejG-qO9EY"
      }
    },
    {
      "cell_type": "markdown",
      "source": [
        "##A"
      ],
      "metadata": {
        "id": "1XgXD7ifPRpO"
      }
    },
    {
      "cell_type": "code",
      "source": [
        "#Going into the directory\n",
        "#    \"Address of files\"\n",
        "%cd /content/drive/MyDrive/Uni/Data/DataMining/Winter2024/CA#3\n",
        "!ls"
      ],
      "metadata": {
        "colab": {
          "base_uri": "https://localhost:8080/"
        },
        "id": "HMJJ55fkJmvK",
        "outputId": "ff564361-9468-4fba-9ada-3a5e1d53011c"
      },
      "execution_count": null,
      "outputs": [
        {
          "output_type": "stream",
          "name": "stdout",
          "text": [
            "/content/drive/MyDrive/Uni/Data/DataMining/Winter2024/CA#3\n",
            " CA#3Report.docx  'Frequent Pattern Mining.ipynb'   Groceries.csv\n"
          ]
        }
      ]
    },
    {
      "cell_type": "code",
      "source": [
        "\n",
        "spark = SparkSession.builder.appName(\n",
        "    'Read CSV File into DataFrame').getOrCreate()\n",
        "\n",
        "Groceries = spark.read.csv('Groceries.csv', sep=',',\n",
        "                         inferSchema=True, header=True)"
      ],
      "metadata": {
        "id": "WIf8153HPExR"
      },
      "execution_count": null,
      "outputs": []
    },
    {
      "cell_type": "code",
      "source": [
        "Groceries.show(n=5)"
      ],
      "metadata": {
        "colab": {
          "base_uri": "https://localhost:8080/"
        },
        "id": "xFx8PzKYPE7g",
        "outputId": "c0eb166e-322d-4393-96c3-179ddefa628a"
      },
      "execution_count": null,
      "outputs": [
        {
          "output_type": "stream",
          "name": "stdout",
          "text": [
            "+-------------+----------+----------------+\n",
            "|Member_number|      Date| itemDescription|\n",
            "+-------------+----------+----------------+\n",
            "|         1808|21-07-2015|  tropical fruit|\n",
            "|         2552|05-01-2015|      whole milk|\n",
            "|         2300|19-09-2015|       pip fruit|\n",
            "|         1187|12-12-2015|other vegetables|\n",
            "|         3037|01-02-2015|      whole milk|\n",
            "+-------------+----------+----------------+\n",
            "only showing top 5 rows\n",
            "\n"
          ]
        }
      ]
    },
    {
      "cell_type": "code",
      "source": [
        "Groceries.count()"
      ],
      "metadata": {
        "colab": {
          "base_uri": "https://localhost:8080/"
        },
        "id": "djzUIVQV8xRr",
        "outputId": "0556a346-17d6-4cd1-c318-f22cc7438cae"
      },
      "execution_count": null,
      "outputs": [
        {
          "output_type": "execute_result",
          "data": {
            "text/plain": [
              "38765"
            ]
          },
          "metadata": {},
          "execution_count": 201
        }
      ]
    },
    {
      "cell_type": "code",
      "source": [
        "GroceriesItems = Groceries.drop('Date')"
      ],
      "metadata": {
        "id": "lXD9pVRl9Sl2"
      },
      "execution_count": null,
      "outputs": []
    },
    {
      "cell_type": "code",
      "source": [
        "GroceriesItems.show()"
      ],
      "metadata": {
        "colab": {
          "base_uri": "https://localhost:8080/"
        },
        "id": "skoFYA-S98xX",
        "outputId": "c6f35d51-fde4-4e6b-9ac9-a89fe6e189d7"
      },
      "execution_count": null,
      "outputs": [
        {
          "output_type": "stream",
          "name": "stdout",
          "text": [
            "+-------------+--------------------+\n",
            "|Member_number|     itemDescription|\n",
            "+-------------+--------------------+\n",
            "|         1808|      tropical fruit|\n",
            "|         2552|          whole milk|\n",
            "|         2300|           pip fruit|\n",
            "|         1187|    other vegetables|\n",
            "|         3037|          whole milk|\n",
            "|         4941|          rolls/buns|\n",
            "|         4501|    other vegetables|\n",
            "|         3803|          pot plants|\n",
            "|         2762|          whole milk|\n",
            "|         4119|      tropical fruit|\n",
            "|         1340|        citrus fruit|\n",
            "|         2193|                beef|\n",
            "|         1997|         frankfurter|\n",
            "|         4546|             chicken|\n",
            "|         4736|              butter|\n",
            "|         1959|fruit/vegetable j...|\n",
            "|         1974|packaged fruit/ve...|\n",
            "|         2421|           chocolate|\n",
            "|         1513|       specialty bar|\n",
            "|         1905|    other vegetables|\n",
            "+-------------+--------------------+\n",
            "only showing top 20 rows\n",
            "\n"
          ]
        }
      ]
    },
    {
      "cell_type": "markdown",
      "source": [
        "##B, C, D"
      ],
      "metadata": {
        "id": "9XSkKSrVPTgO"
      }
    },
    {
      "cell_type": "code",
      "source": [
        "MemeberGroceries = GroceriesItems.groupBy(\"Member_number\").agg(F.concat_ws(\", \", F.collect_list(GroceriesItems.itemDescription)))\n",
        "MemeberGroceries.show()"
      ],
      "metadata": {
        "colab": {
          "base_uri": "https://localhost:8080/"
        },
        "id": "iotZujBxPlY-",
        "outputId": "e582c887-26a5-4cc9-90e1-c8d51bb6b33a"
      },
      "execution_count": null,
      "outputs": [
        {
          "output_type": "stream",
          "name": "stdout",
          "text": [
            "+-------------+--------------------------------------------+\n",
            "|Member_number|concat_ws(, , collect_list(itemDescription))|\n",
            "+-------------+--------------------------------------------+\n",
            "|         1000|                        soda, canned beer...|\n",
            "|         1001|                        frankfurter, fran...|\n",
            "|         1002|                        tropical fruit, b...|\n",
            "|         1003|                        sausage, root veg...|\n",
            "|         1004|                        other vegetables,...|\n",
            "|         1005|                        whipped/sour crea...|\n",
            "|         1006|                        whole milk, frank...|\n",
            "|         1008|                        hamburger meat, t...|\n",
            "|         1009|                        herbs, pastry, tr...|\n",
            "|         1010|                        pip fruit, frankf...|\n",
            "|         1011|                        whole milk, frank...|\n",
            "|         1012|                        frankfurter, proc...|\n",
            "|         1013|                        frozen meals, whi...|\n",
            "|         1014|                        whole milk, canne...|\n",
            "|         1015|                        citrus fruit, sal...|\n",
            "|         1016|                        UHT-milk, soft ch...|\n",
            "|         1017|                        soda, other veget...|\n",
            "|         1018|                        butter milk, curd...|\n",
            "|         1019|                        hamburger meat, r...|\n",
            "|         1020|                        canned beer, cann...|\n",
            "+-------------+--------------------------------------------+\n",
            "only showing top 20 rows\n",
            "\n"
          ]
        }
      ]
    },
    {
      "cell_type": "code",
      "source": [
        "GroceriesItems.where(GroceriesItems.Member_number == 1002).show()"
      ],
      "metadata": {
        "colab": {
          "base_uri": "https://localhost:8080/"
        },
        "id": "LxmAEac6EIHr",
        "outputId": "7bf8387d-6ec4-4ba1-865f-e48a40eb5211"
      },
      "execution_count": null,
      "outputs": [
        {
          "output_type": "stream",
          "name": "stdout",
          "text": [
            "+-------------+-------------------+\n",
            "|Member_number|    itemDescription|\n",
            "+-------------+-------------------+\n",
            "|         1002|     tropical fruit|\n",
            "|         1002|        butter milk|\n",
            "|         1002|             butter|\n",
            "|         1002|  frozen vegetables|\n",
            "|         1002|              sugar|\n",
            "|         1002|specialty chocolate|\n",
            "|         1002|         whole milk|\n",
            "|         1002|   other vegetables|\n",
            "+-------------+-------------------+\n",
            "\n"
          ]
        }
      ]
    },
    {
      "cell_type": "code",
      "source": [
        "MemeberGroceries.collect()[2][1]"
      ],
      "metadata": {
        "colab": {
          "base_uri": "https://localhost:8080/",
          "height": 35
        },
        "id": "NmnySNhPSTww",
        "outputId": "785a3d62-904e-46a0-ac99-6d03dfcc8f2d"
      },
      "execution_count": null,
      "outputs": [
        {
          "output_type": "execute_result",
          "data": {
            "text/plain": [
              "'tropical fruit, butter milk, butter, frozen vegetables, sugar, specialty chocolate, whole milk, other vegetables'"
            ],
            "application/vnd.google.colaboratory.intrinsic+json": {
              "type": "string"
            }
          },
          "metadata": {},
          "execution_count": 206
        }
      ]
    },
    {
      "cell_type": "code",
      "source": [
        "MemeberGroceries.where(MemeberGroceries.Member_number == 1002).show()"
      ],
      "metadata": {
        "colab": {
          "base_uri": "https://localhost:8080/"
        },
        "id": "XUMdSxD6B1FG",
        "outputId": "e6c485b1-57a0-4858-a35b-b01ac62a3ede"
      },
      "execution_count": null,
      "outputs": [
        {
          "output_type": "stream",
          "name": "stdout",
          "text": [
            "+-------------+--------------------------------------------+\n",
            "|Member_number|concat_ws(, , collect_list(itemDescription))|\n",
            "+-------------+--------------------------------------------+\n",
            "|         1002|                        tropical fruit, b...|\n",
            "+-------------+--------------------------------------------+\n",
            "\n"
          ]
        }
      ]
    },
    {
      "cell_type": "code",
      "source": [
        "type(MemeberGroceries.collect()[2][1])"
      ],
      "metadata": {
        "colab": {
          "base_uri": "https://localhost:8080/"
        },
        "id": "iwwZ5shCB1aF",
        "outputId": "89786c0b-31c8-44b5-d39f-7c12a9d7a58b"
      },
      "execution_count": null,
      "outputs": [
        {
          "output_type": "execute_result",
          "data": {
            "text/plain": [
              "str"
            ]
          },
          "metadata": {},
          "execution_count": 208
        }
      ]
    },
    {
      "cell_type": "code",
      "source": [
        "#changing the str to list\n",
        "\n",
        "MemeberGroceriesList = MemeberGroceries.select(F.col(\"Member_number\"),\n",
        "                F.split(F.col(\"concat_ws(, , collect_list(itemDescription))\"),\",\").alias(\"itemDescription_Arr\"),\n",
        "                ).drop(\"concat_ws(, , collect_list(itemDescription))\")\n",
        "\n",
        "MemeberGroceriesList.show()"
      ],
      "metadata": {
        "colab": {
          "base_uri": "https://localhost:8080/"
        },
        "id": "OOAfOdpaGYSw",
        "outputId": "1680cfd5-b02a-4437-ea8b-a2de65ad2050"
      },
      "execution_count": null,
      "outputs": [
        {
          "output_type": "stream",
          "name": "stdout",
          "text": [
            "+-------------+--------------------+\n",
            "|Member_number| itemDescription_Arr|\n",
            "+-------------+--------------------+\n",
            "|         1000|[soda,  canned be...|\n",
            "|         1001|[frankfurter,  fr...|\n",
            "|         1002|[tropical fruit, ...|\n",
            "|         1003|[sausage,  root v...|\n",
            "|         1004|[other vegetables...|\n",
            "|         1005|[whipped/sour cre...|\n",
            "|         1006|[whole milk,  fra...|\n",
            "|         1008|[hamburger meat, ...|\n",
            "|         1009|[herbs,  pastry, ...|\n",
            "|         1010|[pip fruit,  fran...|\n",
            "|         1011|[whole milk,  fra...|\n",
            "|         1012|[frankfurter,  pr...|\n",
            "|         1013|[frozen meals,  w...|\n",
            "|         1014|[whole milk,  can...|\n",
            "|         1015|[citrus fruit,  s...|\n",
            "|         1016|[UHT-milk,  soft ...|\n",
            "|         1017|[soda,  other veg...|\n",
            "|         1018|[butter milk,  cu...|\n",
            "|         1019|[hamburger meat, ...|\n",
            "|         1020|[canned beer,  ca...|\n",
            "+-------------+--------------------+\n",
            "only showing top 20 rows\n",
            "\n"
          ]
        }
      ]
    },
    {
      "cell_type": "code",
      "source": [
        "(MemeberGroceriesList.collect()[9][1])"
      ],
      "metadata": {
        "colab": {
          "base_uri": "https://localhost:8080/"
        },
        "id": "LJZu91qOLvjv",
        "outputId": "ff3958fc-4ef8-419f-fe84-925e38e5967a"
      },
      "execution_count": null,
      "outputs": [
        {
          "output_type": "execute_result",
          "data": {
            "text/plain": [
              "['pip fruit',\n",
              " ' frankfurter',\n",
              " ' pip fruit',\n",
              " ' bottled water',\n",
              " ' candles',\n",
              " ' bottled water',\n",
              " ' coffee',\n",
              " ' specialty bar',\n",
              " ' kitchen towels',\n",
              " ' rolls/buns',\n",
              " ' UHT-milk',\n",
              " ' sliced cheese']"
            ]
          },
          "metadata": {},
          "execution_count": 210
        }
      ]
    },
    {
      "cell_type": "code",
      "source": [
        "from pyspark.sql import SparkSession\n",
        "from pyspark.sql.functions import col, udf\n",
        "from pyspark.sql.types import ArrayType, StringType\n",
        "from pyspark.ml.fpm import FPGrowth\n",
        "\n",
        "\n",
        "# Define a function to remove duplicates from a list\n",
        "def remove_duplicates(lst):\n",
        "    return list(set(lst))\n",
        "\n",
        "# Define the UDF to apply the function\n",
        "remove_duplicates_udf = udf(remove_duplicates, ArrayType(StringType()))\n",
        "\n",
        "# Define a function to process DataFrame\n",
        "def process_dataframe(df):\n",
        "\n",
        "    return df.withColumn('itemDescription_Arr', remove_duplicates_udf(col('itemDescription_Arr')))\n",
        "\n",
        "\n",
        "with SparkSession.builder.appName(\"RemoveDuplicatesExample\").getOrCreate() as spark:\n",
        "\n",
        "    # Process the DataFrame\n",
        "    processed_dataframe = process_dataframe(MemeberGroceriesList)\n",
        "\n",
        "\n",
        "    MGLBiggerCutommers = processed_dataframe.filter((F.size(processed_dataframe.itemDescription_Arr) > 10))\n",
        "    print(\"Part B\")\n",
        "    MGLBiggerCutommers.show()\n",
        "    fp = FPGrowth(itemsCol=\"itemDescription_Arr\", minSupport=0.15, minConfidence=0.4)\n",
        "\n",
        "\n",
        "    fpm = fp.fit(MGLBiggerCutommers.select('itemDescription_Arr'))\n",
        "    fpm.setPredictionCol(\"newPrediction\")\n",
        "    print(\"Part C\")\n",
        "    fpm.freqItemsets.sort(\"items\").show()\n",
        "    print(\"Part D\")\n",
        "    fpm.associationRules.sort(\"antecedent\", \"consequent\").show(20)\n"
      ],
      "metadata": {
        "colab": {
          "base_uri": "https://localhost:8080/"
        },
        "id": "gkT1fPaWs688",
        "outputId": "8ae17a18-d618-449d-a354-485263838f77"
      },
      "execution_count": null,
      "outputs": [
        {
          "output_type": "stream",
          "name": "stdout",
          "text": [
            "Part B\n",
            "+-------------+--------------------+\n",
            "|Member_number| itemDescription_Arr|\n",
            "+-------------+--------------------+\n",
            "|         1000|[ semi-finished b...|\n",
            "|         1004|[ tropical fruit,...|\n",
            "|         1006|[ bottled water, ...|\n",
            "|         1008|[ tropical fruit,...|\n",
            "|         1010|[ bottled water, ...|\n",
            "|         1011|[ bottled water, ...|\n",
            "|         1012|[ tropical fruit,...|\n",
            "|         1013|[ bottled water, ...|\n",
            "|         1023|[ berries, white ...|\n",
            "|         1026|[ root vegetables...|\n",
            "|         1028|[ bottled water, ...|\n",
            "|         1032|[ newspapers,  wh...|\n",
            "|         1033|[ chicken,  sausa...|\n",
            "|         1035|[ newspapers,  wh...|\n",
            "|         1038|[other vegetables...|\n",
            "|         1050|[ cat food,  past...|\n",
            "|         1051|[ tropical fruit,...|\n",
            "|         1052|[ soda,  soft che...|\n",
            "|         1061|[ root vegetables...|\n",
            "|         1062|[ tropical fruit,...|\n",
            "+-------------+--------------------+\n",
            "only showing top 20 rows\n",
            "\n",
            "Part C\n",
            "+--------------------+----+\n",
            "|               items|freq|\n",
            "+--------------------+----+\n",
            "|             [ beef]| 217|\n",
            "|     [ bottled beer]| 327|\n",
            "|    [ bottled water]| 415|\n",
            "|[ bottled water, ...| 227|\n",
            "|[ bottled water, ...| 260|\n",
            "|      [ brown bread]| 281|\n",
            "|           [ butter]| 258|\n",
            "|      [ canned beer]| 333|\n",
            "|[ canned beer,  w...| 205|\n",
            "|     [ citrus fruit]| 322|\n",
            "|           [ coffee]| 227|\n",
            "|             [ curd]| 261|\n",
            "|    [ domestic eggs]| 263|\n",
            "|      [ frankfurter]| 223|\n",
            "|[ frozen vegetables]| 230|\n",
            "|[ fruit/vegetable...| 263|\n",
            "|        [ margarine]| 245|\n",
            "|       [ newspapers]| 294|\n",
            "| [ other vegetables]| 718|\n",
            "|[ other vegetable...| 448|\n",
            "+--------------------+----+\n",
            "only showing top 20 rows\n",
            "\n",
            "Part D\n",
            "+--------------------+-------------------+-------------------+------------------+-------------------+\n",
            "|          antecedent|         consequent|         confidence|              lift|            support|\n",
            "+--------------------+-------------------+-------------------+------------------+-------------------+\n",
            "|    [ bottled water]|[ other vegetables]| 0.5469879518072289|1.0391247441017553|0.16642228739002932|\n",
            "|    [ bottled water]|      [ whole milk]| 0.6265060240963856|1.0221940393151554| 0.1906158357771261|\n",
            "|      [ canned beer]|      [ whole milk]| 0.6156156156156156|1.0044254781096886|0.15029325513196481|\n",
            "| [ other vegetables]|      [ rolls/buns]|0.49164345403899723|1.0269550862315349| 0.2587976539589443|\n",
            "| [ other vegetables]|            [ soda]| 0.4331476323119777|1.0064963721866058| 0.2280058651026393|\n",
            "| [ other vegetables]|      [ whole milk]| 0.6239554317548747|1.0180325465474271| 0.3284457478005865|\n",
            "| [ other vegetables]|          [ yogurt]| 0.4011142061281337| 0.978747365221421|0.21114369501466276|\n",
            "|[ other vegetable...|      [ rolls/buns]|0.48214285714285715|1.0071100415663967|0.15835777126099707|\n",
            "|           [ pastry]|      [ whole milk]| 0.6183844011142061|1.0089429702389678| 0.1627565982404692|\n",
            "|       [ rolls/buns]|[ other vegetables]| 0.5405819295558959|1.0269550862315349| 0.2587976539589443|\n",
            "|       [ rolls/buns]|            [ soda]| 0.4318529862174579|1.0034880293025767|0.20674486803519063|\n",
            "|       [ rolls/buns]|      [ whole milk]| 0.6079632465543645|0.9919400338518579|0.29105571847507333|\n",
            "|       [ rolls/buns]|          [ yogurt]| 0.4104134762633997|1.0014382497733043|0.19648093841642228|\n",
            "|[ rolls/buns,  ot...|      [ whole milk]| 0.6118980169971672|0.9983599224690622|0.15835777126099707|\n",
            "|[ rolls/buns,  wh...|[ other vegetables]| 0.5440806045340051|1.0336015941286671|0.15835777126099707|\n",
            "|  [ root vegetables]|[ other vegetables]| 0.5069124423963134|0.9629924393155592|0.16129032258064516|\n",
            "|  [ root vegetables]|      [ rolls/buns]| 0.4861751152073733|1.0155327061912054|0.15469208211143695|\n",
            "|  [ root vegetables]|      [ whole milk]| 0.6267281105990783|1.0225563909774436|0.19941348973607037|\n",
            "|          [ sausage]|      [ whole milk]| 0.6176470588235294|1.0077399380804954| 0.1693548387096774|\n",
            "|    [ shopping bags]|      [ whole milk]| 0.6577380952380952|1.0731516290726817|0.16202346041055718|\n",
            "+--------------------+-------------------+-------------------+------------------+-------------------+\n",
            "only showing top 20 rows\n",
            "\n"
          ]
        }
      ]
    },
    {
      "cell_type": "code",
      "source": [],
      "metadata": {
        "id": "FnVD9Sva1dGd"
      },
      "execution_count": null,
      "outputs": []
    }
  ]
}