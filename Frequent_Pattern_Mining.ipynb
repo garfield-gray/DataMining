{
  "nbformat": 4,
  "nbformat_minor": 0,
  "metadata": {
    "colab": {
      "provenance": [],
      "mount_file_id": "1qvim3K0Y1KxXYXTDozJiKqgQ2zsI3niO",
      "authorship_tag": "ABX9TyNMRO4M9MaMNqAycV5rv1v5",
      "include_colab_link": true
    },
    "kernelspec": {
      "name": "python3",
      "display_name": "Python 3"
    },
    "language_info": {
      "name": "python"
    }
  },
  "cells": [
    {
      "cell_type": "markdown",
      "metadata": {
        "id": "view-in-github",
        "colab_type": "text"
      },
      "source": [
        "<a href=\"https://colab.research.google.com/github/garfield-gray/DataMining/blob/main/Frequent_Pattern_Mining.ipynb\" target=\"_parent\"><img src=\"https://colab.research.google.com/assets/colab-badge.svg\" alt=\"Open In Colab\"/></a>"
      ]
    },
    {
      "cell_type": "code",
      "source": [
        "!pip install pyspark"
      ],
      "metadata": {
        "colab": {
          "base_uri": "https://localhost:8080/"
        },
        "id": "c_W6Lr4jQkvK",
        "outputId": "0bad65a1-683f-4962-a381-59914b41554c"
      },
      "execution_count": 3,
      "outputs": [
        {
          "output_type": "stream",
          "name": "stdout",
          "text": [
            "Requirement already satisfied: pyspark in /usr/local/lib/python3.10/dist-packages (3.5.1)\n",
            "Requirement already satisfied: py4j==0.10.9.7 in /usr/local/lib/python3.10/dist-packages (from pyspark) (0.10.9.7)\n"
          ]
        }
      ]
    },
    {
      "cell_type": "code",
      "execution_count": 33,
      "metadata": {
        "id": "ppWr-hOtHPYP"
      },
      "outputs": [],
      "source": [
        "# Recheck the Preprocessing based on the new data info and based on the needs!\n",
        "import numpy as np\n",
        "from pyspark.sql import SparkSession\n",
        "from pyspark.sql import functions as F\n",
        "import matplotlib.pyplot as plt\n",
        "import seaborn as sns\n"
      ]
    },
    {
      "cell_type": "markdown",
      "source": [
        "#Theoretical"
      ],
      "metadata": {
        "id": "noXBi4r9O8sZ"
      }
    },
    {
      "cell_type": "code",
      "source": [],
      "metadata": {
        "id": "6DLQEyHPO_R8"
      },
      "execution_count": 4,
      "outputs": []
    },
    {
      "cell_type": "code",
      "source": [],
      "metadata": {
        "id": "Y2sSCWh1O_Ua"
      },
      "execution_count": 4,
      "outputs": []
    },
    {
      "cell_type": "code",
      "source": [],
      "metadata": {
        "id": "79bRhZXjO_i2"
      },
      "execution_count": 4,
      "outputs": []
    },
    {
      "cell_type": "code",
      "source": [],
      "metadata": {
        "id": "JHWOGpnYO_kc"
      },
      "execution_count": 4,
      "outputs": []
    },
    {
      "cell_type": "code",
      "source": [],
      "metadata": {
        "id": "o3_W85sDO_nD"
      },
      "execution_count": 4,
      "outputs": []
    },
    {
      "cell_type": "markdown",
      "source": [
        "#Imperical"
      ],
      "metadata": {
        "id": "PsXejG-qO9EY"
      }
    },
    {
      "cell_type": "markdown",
      "source": [
        "##A"
      ],
      "metadata": {
        "id": "1XgXD7ifPRpO"
      }
    },
    {
      "cell_type": "code",
      "source": [
        "# Address of files\n",
        "%cd /content/drive/MyDrive/Uni/Data/DataMining/Winter2024/CA#3\n",
        "!ls"
      ],
      "metadata": {
        "colab": {
          "base_uri": "https://localhost:8080/"
        },
        "id": "HMJJ55fkJmvK",
        "outputId": "ba4e8b59-ef84-47c0-aa29-7a0c97b760b2"
      },
      "execution_count": 5,
      "outputs": [
        {
          "output_type": "stream",
          "name": "stdout",
          "text": [
            "/content/drive/MyDrive/Uni/Data/DataMining/Winter2024/CA#3\n",
            " CA#3Report.docx  'Frequent Pattern Mining.ipynb'   Groceries.csv\n"
          ]
        }
      ]
    },
    {
      "cell_type": "code",
      "source": [
        "spark = SparkSession.builder.appName(\n",
        "    'Read CSV File into DataFrame').getOrCreate()\n",
        "\n",
        "Groceries = spark.read.csv('Groceries.csv', sep=',',\n",
        "                         inferSchema=True, header=True)\n",
        "\n",
        "df = Groceries.toPandas()\n",
        "df.head()"
      ],
      "metadata": {
        "colab": {
          "base_uri": "https://localhost:8080/",
          "height": 206
        },
        "id": "WIf8153HPExR",
        "outputId": "88d711e8-3c6d-440b-d003-8ab26e0c634f"
      },
      "execution_count": 6,
      "outputs": [
        {
          "output_type": "execute_result",
          "data": {
            "text/plain": [
              "   Member_number        Date   itemDescription\n",
              "0           1808  21-07-2015    tropical fruit\n",
              "1           2552  05-01-2015        whole milk\n",
              "2           2300  19-09-2015         pip fruit\n",
              "3           1187  12-12-2015  other vegetables\n",
              "4           3037  01-02-2015        whole milk"
            ],
            "text/html": [
              "\n",
              "  <div id=\"df-7808cfdd-3f73-4bc6-9a23-8955d3eea099\" class=\"colab-df-container\">\n",
              "    <div>\n",
              "<style scoped>\n",
              "    .dataframe tbody tr th:only-of-type {\n",
              "        vertical-align: middle;\n",
              "    }\n",
              "\n",
              "    .dataframe tbody tr th {\n",
              "        vertical-align: top;\n",
              "    }\n",
              "\n",
              "    .dataframe thead th {\n",
              "        text-align: right;\n",
              "    }\n",
              "</style>\n",
              "<table border=\"1\" class=\"dataframe\">\n",
              "  <thead>\n",
              "    <tr style=\"text-align: right;\">\n",
              "      <th></th>\n",
              "      <th>Member_number</th>\n",
              "      <th>Date</th>\n",
              "      <th>itemDescription</th>\n",
              "    </tr>\n",
              "  </thead>\n",
              "  <tbody>\n",
              "    <tr>\n",
              "      <th>0</th>\n",
              "      <td>1808</td>\n",
              "      <td>21-07-2015</td>\n",
              "      <td>tropical fruit</td>\n",
              "    </tr>\n",
              "    <tr>\n",
              "      <th>1</th>\n",
              "      <td>2552</td>\n",
              "      <td>05-01-2015</td>\n",
              "      <td>whole milk</td>\n",
              "    </tr>\n",
              "    <tr>\n",
              "      <th>2</th>\n",
              "      <td>2300</td>\n",
              "      <td>19-09-2015</td>\n",
              "      <td>pip fruit</td>\n",
              "    </tr>\n",
              "    <tr>\n",
              "      <th>3</th>\n",
              "      <td>1187</td>\n",
              "      <td>12-12-2015</td>\n",
              "      <td>other vegetables</td>\n",
              "    </tr>\n",
              "    <tr>\n",
              "      <th>4</th>\n",
              "      <td>3037</td>\n",
              "      <td>01-02-2015</td>\n",
              "      <td>whole milk</td>\n",
              "    </tr>\n",
              "  </tbody>\n",
              "</table>\n",
              "</div>\n",
              "    <div class=\"colab-df-buttons\">\n",
              "\n",
              "  <div class=\"colab-df-container\">\n",
              "    <button class=\"colab-df-convert\" onclick=\"convertToInteractive('df-7808cfdd-3f73-4bc6-9a23-8955d3eea099')\"\n",
              "            title=\"Convert this dataframe to an interactive table.\"\n",
              "            style=\"display:none;\">\n",
              "\n",
              "  <svg xmlns=\"http://www.w3.org/2000/svg\" height=\"24px\" viewBox=\"0 -960 960 960\">\n",
              "    <path d=\"M120-120v-720h720v720H120Zm60-500h600v-160H180v160Zm220 220h160v-160H400v160Zm0 220h160v-160H400v160ZM180-400h160v-160H180v160Zm440 0h160v-160H620v160ZM180-180h160v-160H180v160Zm440 0h160v-160H620v160Z\"/>\n",
              "  </svg>\n",
              "    </button>\n",
              "\n",
              "  <style>\n",
              "    .colab-df-container {\n",
              "      display:flex;\n",
              "      gap: 12px;\n",
              "    }\n",
              "\n",
              "    .colab-df-convert {\n",
              "      background-color: #E8F0FE;\n",
              "      border: none;\n",
              "      border-radius: 50%;\n",
              "      cursor: pointer;\n",
              "      display: none;\n",
              "      fill: #1967D2;\n",
              "      height: 32px;\n",
              "      padding: 0 0 0 0;\n",
              "      width: 32px;\n",
              "    }\n",
              "\n",
              "    .colab-df-convert:hover {\n",
              "      background-color: #E2EBFA;\n",
              "      box-shadow: 0px 1px 2px rgba(60, 64, 67, 0.3), 0px 1px 3px 1px rgba(60, 64, 67, 0.15);\n",
              "      fill: #174EA6;\n",
              "    }\n",
              "\n",
              "    .colab-df-buttons div {\n",
              "      margin-bottom: 4px;\n",
              "    }\n",
              "\n",
              "    [theme=dark] .colab-df-convert {\n",
              "      background-color: #3B4455;\n",
              "      fill: #D2E3FC;\n",
              "    }\n",
              "\n",
              "    [theme=dark] .colab-df-convert:hover {\n",
              "      background-color: #434B5C;\n",
              "      box-shadow: 0px 1px 3px 1px rgba(0, 0, 0, 0.15);\n",
              "      filter: drop-shadow(0px 1px 2px rgba(0, 0, 0, 0.3));\n",
              "      fill: #FFFFFF;\n",
              "    }\n",
              "  </style>\n",
              "\n",
              "    <script>\n",
              "      const buttonEl =\n",
              "        document.querySelector('#df-7808cfdd-3f73-4bc6-9a23-8955d3eea099 button.colab-df-convert');\n",
              "      buttonEl.style.display =\n",
              "        google.colab.kernel.accessAllowed ? 'block' : 'none';\n",
              "\n",
              "      async function convertToInteractive(key) {\n",
              "        const element = document.querySelector('#df-7808cfdd-3f73-4bc6-9a23-8955d3eea099');\n",
              "        const dataTable =\n",
              "          await google.colab.kernel.invokeFunction('convertToInteractive',\n",
              "                                                    [key], {});\n",
              "        if (!dataTable) return;\n",
              "\n",
              "        const docLinkHtml = 'Like what you see? Visit the ' +\n",
              "          '<a target=\"_blank\" href=https://colab.research.google.com/notebooks/data_table.ipynb>data table notebook</a>'\n",
              "          + ' to learn more about interactive tables.';\n",
              "        element.innerHTML = '';\n",
              "        dataTable['output_type'] = 'display_data';\n",
              "        await google.colab.output.renderOutput(dataTable, element);\n",
              "        const docLink = document.createElement('div');\n",
              "        docLink.innerHTML = docLinkHtml;\n",
              "        element.appendChild(docLink);\n",
              "      }\n",
              "    </script>\n",
              "  </div>\n",
              "\n",
              "\n",
              "<div id=\"df-29a0fe11-8019-4c43-84f6-73ac3ce5ed2b\">\n",
              "  <button class=\"colab-df-quickchart\" onclick=\"quickchart('df-29a0fe11-8019-4c43-84f6-73ac3ce5ed2b')\"\n",
              "            title=\"Suggest charts\"\n",
              "            style=\"display:none;\">\n",
              "\n",
              "<svg xmlns=\"http://www.w3.org/2000/svg\" height=\"24px\"viewBox=\"0 0 24 24\"\n",
              "     width=\"24px\">\n",
              "    <g>\n",
              "        <path d=\"M19 3H5c-1.1 0-2 .9-2 2v14c0 1.1.9 2 2 2h14c1.1 0 2-.9 2-2V5c0-1.1-.9-2-2-2zM9 17H7v-7h2v7zm4 0h-2V7h2v10zm4 0h-2v-4h2v4z\"/>\n",
              "    </g>\n",
              "</svg>\n",
              "  </button>\n",
              "\n",
              "<style>\n",
              "  .colab-df-quickchart {\n",
              "      --bg-color: #E8F0FE;\n",
              "      --fill-color: #1967D2;\n",
              "      --hover-bg-color: #E2EBFA;\n",
              "      --hover-fill-color: #174EA6;\n",
              "      --disabled-fill-color: #AAA;\n",
              "      --disabled-bg-color: #DDD;\n",
              "  }\n",
              "\n",
              "  [theme=dark] .colab-df-quickchart {\n",
              "      --bg-color: #3B4455;\n",
              "      --fill-color: #D2E3FC;\n",
              "      --hover-bg-color: #434B5C;\n",
              "      --hover-fill-color: #FFFFFF;\n",
              "      --disabled-bg-color: #3B4455;\n",
              "      --disabled-fill-color: #666;\n",
              "  }\n",
              "\n",
              "  .colab-df-quickchart {\n",
              "    background-color: var(--bg-color);\n",
              "    border: none;\n",
              "    border-radius: 50%;\n",
              "    cursor: pointer;\n",
              "    display: none;\n",
              "    fill: var(--fill-color);\n",
              "    height: 32px;\n",
              "    padding: 0;\n",
              "    width: 32px;\n",
              "  }\n",
              "\n",
              "  .colab-df-quickchart:hover {\n",
              "    background-color: var(--hover-bg-color);\n",
              "    box-shadow: 0 1px 2px rgba(60, 64, 67, 0.3), 0 1px 3px 1px rgba(60, 64, 67, 0.15);\n",
              "    fill: var(--button-hover-fill-color);\n",
              "  }\n",
              "\n",
              "  .colab-df-quickchart-complete:disabled,\n",
              "  .colab-df-quickchart-complete:disabled:hover {\n",
              "    background-color: var(--disabled-bg-color);\n",
              "    fill: var(--disabled-fill-color);\n",
              "    box-shadow: none;\n",
              "  }\n",
              "\n",
              "  .colab-df-spinner {\n",
              "    border: 2px solid var(--fill-color);\n",
              "    border-color: transparent;\n",
              "    border-bottom-color: var(--fill-color);\n",
              "    animation:\n",
              "      spin 1s steps(1) infinite;\n",
              "  }\n",
              "\n",
              "  @keyframes spin {\n",
              "    0% {\n",
              "      border-color: transparent;\n",
              "      border-bottom-color: var(--fill-color);\n",
              "      border-left-color: var(--fill-color);\n",
              "    }\n",
              "    20% {\n",
              "      border-color: transparent;\n",
              "      border-left-color: var(--fill-color);\n",
              "      border-top-color: var(--fill-color);\n",
              "    }\n",
              "    30% {\n",
              "      border-color: transparent;\n",
              "      border-left-color: var(--fill-color);\n",
              "      border-top-color: var(--fill-color);\n",
              "      border-right-color: var(--fill-color);\n",
              "    }\n",
              "    40% {\n",
              "      border-color: transparent;\n",
              "      border-right-color: var(--fill-color);\n",
              "      border-top-color: var(--fill-color);\n",
              "    }\n",
              "    60% {\n",
              "      border-color: transparent;\n",
              "      border-right-color: var(--fill-color);\n",
              "    }\n",
              "    80% {\n",
              "      border-color: transparent;\n",
              "      border-right-color: var(--fill-color);\n",
              "      border-bottom-color: var(--fill-color);\n",
              "    }\n",
              "    90% {\n",
              "      border-color: transparent;\n",
              "      border-bottom-color: var(--fill-color);\n",
              "    }\n",
              "  }\n",
              "</style>\n",
              "\n",
              "  <script>\n",
              "    async function quickchart(key) {\n",
              "      const quickchartButtonEl =\n",
              "        document.querySelector('#' + key + ' button');\n",
              "      quickchartButtonEl.disabled = true;  // To prevent multiple clicks.\n",
              "      quickchartButtonEl.classList.add('colab-df-spinner');\n",
              "      try {\n",
              "        const charts = await google.colab.kernel.invokeFunction(\n",
              "            'suggestCharts', [key], {});\n",
              "      } catch (error) {\n",
              "        console.error('Error during call to suggestCharts:', error);\n",
              "      }\n",
              "      quickchartButtonEl.classList.remove('colab-df-spinner');\n",
              "      quickchartButtonEl.classList.add('colab-df-quickchart-complete');\n",
              "    }\n",
              "    (() => {\n",
              "      let quickchartButtonEl =\n",
              "        document.querySelector('#df-29a0fe11-8019-4c43-84f6-73ac3ce5ed2b button');\n",
              "      quickchartButtonEl.style.display =\n",
              "        google.colab.kernel.accessAllowed ? 'block' : 'none';\n",
              "    })();\n",
              "  </script>\n",
              "</div>\n",
              "    </div>\n",
              "  </div>\n"
            ],
            "application/vnd.google.colaboratory.intrinsic+json": {
              "type": "dataframe",
              "variable_name": "df",
              "summary": "{\n  \"name\": \"df\",\n  \"rows\": 38765,\n  \"fields\": [\n    {\n      \"column\": \"Member_number\",\n      \"properties\": {\n        \"dtype\": \"int32\",\n        \"num_unique_values\": 3898,\n        \"samples\": [\n          3785,\n          1384,\n          3330\n        ],\n        \"semantic_type\": \"\",\n        \"description\": \"\"\n      }\n    },\n    {\n      \"column\": \"Date\",\n      \"properties\": {\n        \"dtype\": \"object\",\n        \"num_unique_values\": 728,\n        \"samples\": [\n          \"19-07-2015\",\n          \"28-03-2015\",\n          \"29-07-2015\"\n        ],\n        \"semantic_type\": \"\",\n        \"description\": \"\"\n      }\n    },\n    {\n      \"column\": \"itemDescription\",\n      \"properties\": {\n        \"dtype\": \"category\",\n        \"num_unique_values\": 167,\n        \"samples\": [\n          \"cookware\",\n          \"canned fruit\",\n          \"specialty cheese\"\n        ],\n        \"semantic_type\": \"\",\n        \"description\": \"\"\n      }\n    }\n  ]\n}"
            }
          },
          "metadata": {},
          "execution_count": 6
        }
      ]
    },
    {
      "cell_type": "code",
      "source": [
        "Groceries.show(truncate=False)"
      ],
      "metadata": {
        "colab": {
          "base_uri": "https://localhost:8080/"
        },
        "id": "xFx8PzKYPE7g",
        "outputId": "36cf9fae-4fd7-472e-ed3b-ad397e5ef080"
      },
      "execution_count": 7,
      "outputs": [
        {
          "output_type": "stream",
          "name": "stdout",
          "text": [
            "+-------------+----------+-------------------------+\n",
            "|Member_number|Date      |itemDescription          |\n",
            "+-------------+----------+-------------------------+\n",
            "|1808         |21-07-2015|tropical fruit           |\n",
            "|2552         |05-01-2015|whole milk               |\n",
            "|2300         |19-09-2015|pip fruit                |\n",
            "|1187         |12-12-2015|other vegetables         |\n",
            "|3037         |01-02-2015|whole milk               |\n",
            "|4941         |14-02-2015|rolls/buns               |\n",
            "|4501         |08-05-2015|other vegetables         |\n",
            "|3803         |23-12-2015|pot plants               |\n",
            "|2762         |20-03-2015|whole milk               |\n",
            "|4119         |12-02-2015|tropical fruit           |\n",
            "|1340         |24-02-2015|citrus fruit             |\n",
            "|2193         |14-04-2015|beef                     |\n",
            "|1997         |21-07-2015|frankfurter              |\n",
            "|4546         |03-09-2015|chicken                  |\n",
            "|4736         |21-07-2015|butter                   |\n",
            "|1959         |30-03-2015|fruit/vegetable juice    |\n",
            "|1974         |03-05-2015|packaged fruit/vegetables|\n",
            "|2421         |02-09-2015|chocolate                |\n",
            "|1513         |03-08-2015|specialty bar            |\n",
            "|1905         |07-07-2015|other vegetables         |\n",
            "+-------------+----------+-------------------------+\n",
            "only showing top 20 rows\n",
            "\n"
          ]
        }
      ]
    },
    {
      "cell_type": "code",
      "source": [
        "Groceries.count()"
      ],
      "metadata": {
        "colab": {
          "base_uri": "https://localhost:8080/"
        },
        "id": "djzUIVQV8xRr",
        "outputId": "b339f951-b60e-4754-8223-e82fb928da3f"
      },
      "execution_count": 9,
      "outputs": [
        {
          "output_type": "execute_result",
          "data": {
            "text/plain": [
              "38765"
            ]
          },
          "metadata": {},
          "execution_count": 9
        }
      ]
    },
    {
      "cell_type": "code",
      "source": [
        "GroceriesItems = Groceries.drop('Date')"
      ],
      "metadata": {
        "id": "lXD9pVRl9Sl2"
      },
      "execution_count": 10,
      "outputs": []
    },
    {
      "cell_type": "code",
      "source": [
        "GroceriesItems.show(truncate=False)"
      ],
      "metadata": {
        "colab": {
          "base_uri": "https://localhost:8080/"
        },
        "id": "skoFYA-S98xX",
        "outputId": "03d3d48b-bd10-4c4a-901e-c76a4e0bcaed"
      },
      "execution_count": 12,
      "outputs": [
        {
          "output_type": "stream",
          "name": "stdout",
          "text": [
            "+-------------+-------------------------+\n",
            "|Member_number|itemDescription          |\n",
            "+-------------+-------------------------+\n",
            "|1808         |tropical fruit           |\n",
            "|2552         |whole milk               |\n",
            "|2300         |pip fruit                |\n",
            "|1187         |other vegetables         |\n",
            "|3037         |whole milk               |\n",
            "|4941         |rolls/buns               |\n",
            "|4501         |other vegetables         |\n",
            "|3803         |pot plants               |\n",
            "|2762         |whole milk               |\n",
            "|4119         |tropical fruit           |\n",
            "|1340         |citrus fruit             |\n",
            "|2193         |beef                     |\n",
            "|1997         |frankfurter              |\n",
            "|4546         |chicken                  |\n",
            "|4736         |butter                   |\n",
            "|1959         |fruit/vegetable juice    |\n",
            "|1974         |packaged fruit/vegetables|\n",
            "|2421         |chocolate                |\n",
            "|1513         |specialty bar            |\n",
            "|1905         |other vegetables         |\n",
            "+-------------+-------------------------+\n",
            "only showing top 20 rows\n",
            "\n"
          ]
        }
      ]
    },
    {
      "cell_type": "markdown",
      "source": [
        "##B"
      ],
      "metadata": {
        "id": "9XSkKSrVPTgO"
      }
    },
    {
      "cell_type": "code",
      "source": [
        "GroceriesItems.show()"
      ],
      "metadata": {
        "colab": {
          "base_uri": "https://localhost:8080/"
        },
        "id": "2JhUD8wzBh8d",
        "outputId": "fe8f154c-d0a7-4072-98b6-f07cb9126847"
      },
      "execution_count": 16,
      "outputs": [
        {
          "output_type": "stream",
          "name": "stdout",
          "text": [
            "+-------------+--------------------+\n",
            "|Member_number|     itemDescription|\n",
            "+-------------+--------------------+\n",
            "|         1808|      tropical fruit|\n",
            "|         2552|          whole milk|\n",
            "|         2300|           pip fruit|\n",
            "|         1187|    other vegetables|\n",
            "|         3037|          whole milk|\n",
            "|         4941|          rolls/buns|\n",
            "|         4501|    other vegetables|\n",
            "|         3803|          pot plants|\n",
            "|         2762|          whole milk|\n",
            "|         4119|      tropical fruit|\n",
            "|         1340|        citrus fruit|\n",
            "|         2193|                beef|\n",
            "|         1997|         frankfurter|\n",
            "|         4546|             chicken|\n",
            "|         4736|              butter|\n",
            "|         1959|fruit/vegetable j...|\n",
            "|         1974|packaged fruit/ve...|\n",
            "|         2421|           chocolate|\n",
            "|         1513|       specialty bar|\n",
            "|         1905|    other vegetables|\n",
            "+-------------+--------------------+\n",
            "only showing top 20 rows\n",
            "\n"
          ]
        }
      ]
    },
    {
      "cell_type": "code",
      "source": [
        "GroceriesItems.where(GroceriesItems.Member_number == 1001).show()"
      ],
      "metadata": {
        "colab": {
          "base_uri": "https://localhost:8080/"
        },
        "id": "LxmAEac6EIHr",
        "outputId": "0eccd65f-214f-477e-ee57-ce5c97013638"
      },
      "execution_count": 35,
      "outputs": [
        {
          "output_type": "stream",
          "name": "stdout",
          "text": [
            "+-------------+------------------+\n",
            "|Member_number|   itemDescription|\n",
            "+-------------+------------------+\n",
            "|         1001|       frankfurter|\n",
            "|         1001|       frankfurter|\n",
            "|         1001|              beef|\n",
            "|         1001|           sausage|\n",
            "|         1001|        whole milk|\n",
            "|         1001|              soda|\n",
            "|         1001|              curd|\n",
            "|         1001|       white bread|\n",
            "|         1001|        whole milk|\n",
            "|         1001|              soda|\n",
            "|         1001|whipped/sour cream|\n",
            "|         1001|        rolls/buns|\n",
            "+-------------+------------------+\n",
            "\n"
          ]
        }
      ]
    },
    {
      "cell_type": "code",
      "source": [
        "x = GroceriesItems.groupBy(\"Member_number\")\\\n",
        "              .agg(F.first(\"itemDescription\"))\\\n",
        "              .show()"
      ],
      "metadata": {
        "colab": {
          "base_uri": "https://localhost:8080/"
        },
        "id": "3jA2L9DwB-2q",
        "outputId": "6d85dd54-59f4-4885-9d9b-317491beec19"
      },
      "execution_count": 28,
      "outputs": [
        {
          "output_type": "stream",
          "name": "stdout",
          "text": [
            "+-------------+----------------------+\n",
            "|Member_number|first(itemDescription)|\n",
            "+-------------+----------------------+\n",
            "|         1000|                  soda|\n",
            "|         1001|           frankfurter|\n",
            "|         1002|        tropical fruit|\n",
            "|         1003|               sausage|\n",
            "|         1004|      other vegetables|\n",
            "|         1005|    whipped/sour cream|\n",
            "|         1006|            whole milk|\n",
            "|         1008|        hamburger meat|\n",
            "|         1009|                 herbs|\n",
            "|         1010|             pip fruit|\n",
            "|         1011|            whole milk|\n",
            "|         1012|           frankfurter|\n",
            "|         1013|          frozen meals|\n",
            "|         1014|            whole milk|\n",
            "|         1015|          citrus fruit|\n",
            "|         1016|              UHT-milk|\n",
            "|         1017|                  soda|\n",
            "|         1018|           butter milk|\n",
            "|         1019|        hamburger meat|\n",
            "|         1020|           canned beer|\n",
            "+-------------+----------------------+\n",
            "only showing top 20 rows\n",
            "\n"
          ]
        }
      ]
    },
    {
      "cell_type": "code",
      "source": [
        "MemeberGroceries = GroceriesItems.groupBy(\"Member_number\").agg(F.concat_ws(\", \", F.collect_list(GroceriesItems.itemDescription)))\n",
        "MemeberGroceries.show()"
      ],
      "metadata": {
        "colab": {
          "base_uri": "https://localhost:8080/"
        },
        "id": "iotZujBxPlY-",
        "outputId": "20ec0053-109d-46e2-a59b-06f5ba8aa94d"
      },
      "execution_count": 32,
      "outputs": [
        {
          "output_type": "stream",
          "name": "stdout",
          "text": [
            "+-------------+--------------------------------------------+\n",
            "|Member_number|concat_ws(, , collect_list(itemDescription))|\n",
            "+-------------+--------------------------------------------+\n",
            "|         1000|                        soda, canned beer...|\n",
            "|         1001|                        frankfurter, fran...|\n",
            "|         1002|                        tropical fruit, b...|\n",
            "|         1003|                        sausage, root veg...|\n",
            "|         1004|                        other vegetables,...|\n",
            "|         1005|                        whipped/sour crea...|\n",
            "|         1006|                        whole milk, frank...|\n",
            "|         1008|                        hamburger meat, t...|\n",
            "|         1009|                        herbs, pastry, tr...|\n",
            "|         1010|                        pip fruit, frankf...|\n",
            "|         1011|                        whole milk, frank...|\n",
            "|         1012|                        frankfurter, proc...|\n",
            "|         1013|                        frozen meals, whi...|\n",
            "|         1014|                        whole milk, canne...|\n",
            "|         1015|                        citrus fruit, sal...|\n",
            "|         1016|                        UHT-milk, soft ch...|\n",
            "|         1017|                        soda, other veget...|\n",
            "|         1018|                        butter milk, curd...|\n",
            "|         1019|                        hamburger meat, r...|\n",
            "|         1020|                        canned beer, cann...|\n",
            "+-------------+--------------------------------------------+\n",
            "only showing top 20 rows\n",
            "\n"
          ]
        }
      ]
    },
    {
      "cell_type": "code",
      "source": [
        "MemeberGroceries.where(MemeberGroceries.Member_number == 1001).show()"
      ],
      "metadata": {
        "colab": {
          "base_uri": "https://localhost:8080/"
        },
        "id": "NmnySNhPSTww",
        "outputId": "51382f23-1094-45e8-94d0-7d1d872f40ef"
      },
      "execution_count": 36,
      "outputs": [
        {
          "output_type": "stream",
          "name": "stdout",
          "text": [
            "+-------------+--------------------------------------------+\n",
            "|Member_number|concat_ws(, , collect_list(itemDescription))|\n",
            "+-------------+--------------------------------------------+\n",
            "|         1001|                        frankfurter, fran...|\n",
            "+-------------+--------------------------------------------+\n",
            "\n"
          ]
        }
      ]
    },
    {
      "cell_type": "markdown",
      "source": [
        "##C"
      ],
      "metadata": {
        "id": "dhQxuo07PVhI"
      }
    },
    {
      "cell_type": "code",
      "source": [],
      "metadata": {
        "id": "UGAGNTwVPW7X"
      },
      "execution_count": null,
      "outputs": []
    },
    {
      "cell_type": "code",
      "source": [],
      "metadata": {
        "id": "l1h5oOooPXdf"
      },
      "execution_count": null,
      "outputs": []
    },
    {
      "cell_type": "markdown",
      "source": [
        "##D"
      ],
      "metadata": {
        "id": "Q6gA_5uQPX3N"
      }
    },
    {
      "cell_type": "code",
      "source": [],
      "metadata": {
        "id": "T3T7FgzNPYWx"
      },
      "execution_count": null,
      "outputs": []
    }
  ]
}