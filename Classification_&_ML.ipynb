{
  "nbformat": 4,
  "nbformat_minor": 0,
  "metadata": {
    "colab": {
      "provenance": [],
      "mount_file_id": "1ZzihUogBkOyLOHdjGUj-I6nZvQITgZVT",
      "authorship_tag": "ABX9TyPYPHz2bFwg3qa6GVWtcDUO",
      "include_colab_link": true
    },
    "kernelspec": {
      "name": "python3",
      "display_name": "Python 3"
    },
    "language_info": {
      "name": "python"
    }
  },
  "cells": [
    {
      "cell_type": "markdown",
      "metadata": {
        "id": "view-in-github",
        "colab_type": "text"
      },
      "source": [
        "<a href=\"https://colab.research.google.com/github/garfield-gray/DataMining/blob/main/Classification_%26_ML.ipynb\" target=\"_parent\"><img src=\"https://colab.research.google.com/assets/colab-badge.svg\" alt=\"Open In Colab\"/></a>"
      ]
    },
    {
      "cell_type": "code",
      "execution_count": 2,
      "metadata": {
        "id": "eR-IwC_j4Wkx"
      },
      "outputs": [],
      "source": [
        "import numpy as np\n",
        "import pandas as pd\n",
        "import matplotlib.pyplot as plt\n",
        "import seaborn as sns"
      ]
    },
    {
      "cell_type": "markdown",
      "source": [
        "#Theoretical"
      ],
      "metadata": {
        "id": "4q0tFKDR5wjD"
      }
    },
    {
      "cell_type": "code",
      "source": [],
      "metadata": {
        "id": "OczqAoF458Qx"
      },
      "execution_count": 2,
      "outputs": []
    },
    {
      "cell_type": "code",
      "source": [],
      "metadata": {
        "id": "bng0bnEA6G_E"
      },
      "execution_count": 2,
      "outputs": []
    },
    {
      "cell_type": "code",
      "source": [],
      "metadata": {
        "id": "SnkzDTNB6HH6"
      },
      "execution_count": 2,
      "outputs": []
    },
    {
      "cell_type": "markdown",
      "source": [
        "#Imperical"
      ],
      "metadata": {
        "id": "yNIrGKj46FWg"
      }
    },
    {
      "cell_type": "code",
      "source": [
        "# Address of files\n",
        "%cd /content/drive/MyDrive/Uni/Data/DataMining/Winter2024/CA#4\n",
        "!ls"
      ],
      "metadata": {
        "colab": {
          "base_uri": "https://localhost:8080/"
        },
        "id": "XfPeeHfL6GFn",
        "outputId": "c91eb1d0-9a37-4347-d7f1-6766f3ce1867"
      },
      "execution_count": 3,
      "outputs": [
        {
          "output_type": "stream",
          "name": "stdout",
          "text": [
            "/content/drive/MyDrive/Uni/Data/DataMining/Winter2024/CA#4\n",
            " CA4.pdf   CA#4Report.docx  'Classification_&_ML.ipynb'   Question_1.csv   Question_2.csv\n"
          ]
        }
      ]
    },
    {
      "cell_type": "markdown",
      "source": [
        "##Queton_1"
      ],
      "metadata": {
        "id": "cjd0-8K47M6t"
      }
    },
    {
      "cell_type": "markdown",
      "source": [
        "###Load"
      ],
      "metadata": {
        "id": "j9aZk4wNhbG1"
      }
    },
    {
      "cell_type": "code",
      "source": [
        "!pip install ucimlrepo\n",
        "from ucimlrepo import fetch_ucirepo\n",
        "df = fetch_ucirepo(id = 848)\n",
        "Features = df.data.features\n",
        "label = df.data.targets"
      ],
      "metadata": {
        "colab": {
          "base_uri": "https://localhost:8080/"
        },
        "id": "qBKYOjUYfPXc",
        "outputId": "6bcb295a-2ae1-4616-b990-586266502cac"
      },
      "execution_count": 4,
      "outputs": [
        {
          "output_type": "stream",
          "name": "stdout",
          "text": [
            "Collecting ucimlrepo\n",
            "  Downloading ucimlrepo-0.0.6-py3-none-any.whl (8.0 kB)\n",
            "Installing collected packages: ucimlrepo\n",
            "Successfully installed ucimlrepo-0.0.6\n"
          ]
        }
      ]
    },
    {
      "cell_type": "code",
      "source": [
        "Features.info()"
      ],
      "metadata": {
        "colab": {
          "base_uri": "https://localhost:8080/"
        },
        "id": "DcuE2VwTgYFt",
        "outputId": "d05be7b7-0e06-4d4b-aa27-fc0911928fea"
      },
      "execution_count": 5,
      "outputs": [
        {
          "output_type": "stream",
          "name": "stdout",
          "text": [
            "<class 'pandas.core.frame.DataFrame'>\n",
            "RangeIndex: 61069 entries, 0 to 61068\n",
            "Data columns (total 20 columns):\n",
            " #   Column                Non-Null Count  Dtype  \n",
            "---  ------                --------------  -----  \n",
            " 0   cap-diameter          61069 non-null  float64\n",
            " 1   cap-shape             61069 non-null  object \n",
            " 2   cap-surface           46949 non-null  object \n",
            " 3   cap-color             61069 non-null  object \n",
            " 4   does-bruise-or-bleed  61069 non-null  object \n",
            " 5   gill-attachment       51185 non-null  object \n",
            " 6   gill-spacing          36006 non-null  object \n",
            " 7   gill-color            61069 non-null  object \n",
            " 8   stem-height           61069 non-null  float64\n",
            " 9   stem-width            61069 non-null  float64\n",
            " 10  stem-root             9531 non-null   object \n",
            " 11  stem-surface          22945 non-null  object \n",
            " 12  stem-color            61069 non-null  object \n",
            " 13  veil-type             3177 non-null   object \n",
            " 14  veil-color            7413 non-null   object \n",
            " 15  has-ring              61069 non-null  object \n",
            " 16  ring-type             58598 non-null  object \n",
            " 17  spore-print-color     6354 non-null   object \n",
            " 18  habitat               61069 non-null  object \n",
            " 19  season                61069 non-null  object \n",
            "dtypes: float64(3), object(17)\n",
            "memory usage: 9.3+ MB\n"
          ]
        }
      ]
    },
    {
      "cell_type": "code",
      "source": [
        "label.info()"
      ],
      "metadata": {
        "colab": {
          "base_uri": "https://localhost:8080/"
        },
        "id": "do6V29eCg1De",
        "outputId": "6bbdae9b-f9d2-4f90-841b-42d34f4e78fa"
      },
      "execution_count": null,
      "outputs": [
        {
          "output_type": "stream",
          "name": "stdout",
          "text": [
            "<class 'pandas.core.frame.DataFrame'>\n",
            "RangeIndex: 61069 entries, 0 to 61068\n",
            "Data columns (total 1 columns):\n",
            " #   Column  Non-Null Count  Dtype \n",
            "---  ------  --------------  ----- \n",
            " 0   class   61069 non-null  object\n",
            "dtypes: object(1)\n",
            "memory usage: 477.2+ KB\n"
          ]
        }
      ]
    },
    {
      "cell_type": "markdown",
      "source": [
        "###Preprocessing"
      ],
      "metadata": {
        "id": "uycB2_jJh8aI"
      }
    },
    {
      "cell_type": "code",
      "source": [
        "label['class'].unique()"
      ],
      "metadata": {
        "id": "y7NTJJ5h643X",
        "colab": {
          "base_uri": "https://localhost:8080/"
        },
        "outputId": "134ce582-ebcb-41ef-876d-dffdb7dfda70"
      },
      "execution_count": 16,
      "outputs": [
        {
          "output_type": "execute_result",
          "data": {
            "text/plain": [
              "array(['p', 'e'], dtype=object)"
            ]
          },
          "metadata": {},
          "execution_count": 16
        }
      ]
    },
    {
      "cell_type": "code",
      "source": [
        "Features.info()"
      ],
      "metadata": {
        "colab": {
          "base_uri": "https://localhost:8080/"
        },
        "id": "0_LDEHYOCy1v",
        "outputId": "06e453f4-f4a9-4844-a2f3-9da62501d782"
      },
      "execution_count": 19,
      "outputs": [
        {
          "output_type": "stream",
          "name": "stdout",
          "text": [
            "<class 'pandas.core.frame.DataFrame'>\n",
            "RangeIndex: 61069 entries, 0 to 61068\n",
            "Data columns (total 20 columns):\n",
            " #   Column                Non-Null Count  Dtype  \n",
            "---  ------                --------------  -----  \n",
            " 0   cap-diameter          61069 non-null  float64\n",
            " 1   cap-shape             61069 non-null  object \n",
            " 2   cap-surface           46949 non-null  object \n",
            " 3   cap-color             61069 non-null  object \n",
            " 4   does-bruise-or-bleed  61069 non-null  object \n",
            " 5   gill-attachment       51185 non-null  object \n",
            " 6   gill-spacing          36006 non-null  object \n",
            " 7   gill-color            61069 non-null  object \n",
            " 8   stem-height           61069 non-null  float64\n",
            " 9   stem-width            61069 non-null  float64\n",
            " 10  stem-root             9531 non-null   object \n",
            " 11  stem-surface          22945 non-null  object \n",
            " 12  stem-color            61069 non-null  object \n",
            " 13  veil-type             3177 non-null   object \n",
            " 14  veil-color            7413 non-null   object \n",
            " 15  has-ring              61069 non-null  object \n",
            " 16  ring-type             58598 non-null  object \n",
            " 17  spore-print-color     6354 non-null   object \n",
            " 18  habitat               61069 non-null  object \n",
            " 19  season                61069 non-null  object \n",
            "dtypes: float64(3), object(17)\n",
            "memory usage: 9.3+ MB\n"
          ]
        }
      ]
    },
    {
      "cell_type": "markdown",
      "source": [
        "####A"
      ],
      "metadata": {
        "id": "UrlIlD8FhhWy"
      }
    },
    {
      "cell_type": "code",
      "source": [],
      "metadata": {
        "id": "lj5U6Tr87Yqq"
      },
      "execution_count": 22,
      "outputs": []
    },
    {
      "cell_type": "markdown",
      "source": [
        "####B"
      ],
      "metadata": {
        "id": "V0upgtI4hmMV"
      }
    },
    {
      "cell_type": "code",
      "source": [],
      "metadata": {
        "id": "1MTgsPpg7ZKM"
      },
      "execution_count": null,
      "outputs": []
    },
    {
      "cell_type": "markdown",
      "source": [
        "####C"
      ],
      "metadata": {
        "id": "28PB0k7php8m"
      }
    },
    {
      "cell_type": "code",
      "source": [],
      "metadata": {
        "id": "rXBMNj207ZS-"
      },
      "execution_count": null,
      "outputs": []
    },
    {
      "cell_type": "markdown",
      "source": [
        "####D"
      ],
      "metadata": {
        "id": "W6gjdX8aiH5y"
      }
    },
    {
      "cell_type": "code",
      "source": [],
      "metadata": {
        "id": "yg7M1WDV7Zcg"
      },
      "execution_count": null,
      "outputs": []
    },
    {
      "cell_type": "markdown",
      "source": [
        "####E"
      ],
      "metadata": {
        "id": "KLiL19BmiLfI"
      }
    },
    {
      "cell_type": "code",
      "source": [],
      "metadata": {
        "id": "8RqmVu9hiL6A"
      },
      "execution_count": null,
      "outputs": []
    },
    {
      "cell_type": "markdown",
      "source": [
        "###Classification"
      ],
      "metadata": {
        "id": "_NntKaMbiN11"
      }
    },
    {
      "cell_type": "markdown",
      "source": [
        "####A"
      ],
      "metadata": {
        "id": "A2y7kXVliTqc"
      }
    },
    {
      "cell_type": "code",
      "source": [],
      "metadata": {
        "id": "QnGmkipXiR9o"
      },
      "execution_count": null,
      "outputs": []
    },
    {
      "cell_type": "markdown",
      "source": [
        "####B"
      ],
      "metadata": {
        "id": "7ZzsSmHYiYtp"
      }
    },
    {
      "cell_type": "code",
      "source": [],
      "metadata": {
        "id": "JgekZkoViSWQ"
      },
      "execution_count": null,
      "outputs": []
    },
    {
      "cell_type": "code",
      "source": [],
      "metadata": {
        "id": "LVvXkydRiaGt"
      },
      "execution_count": null,
      "outputs": []
    },
    {
      "cell_type": "markdown",
      "source": [
        "####C"
      ],
      "metadata": {
        "id": "c1NlqszQicBY"
      }
    },
    {
      "cell_type": "code",
      "source": [],
      "metadata": {
        "id": "4_q4EJZAiaQc"
      },
      "execution_count": null,
      "outputs": []
    },
    {
      "cell_type": "code",
      "source": [],
      "metadata": {
        "id": "G5nu2NyTieIm"
      },
      "execution_count": null,
      "outputs": []
    },
    {
      "cell_type": "markdown",
      "source": [
        "####D"
      ],
      "metadata": {
        "id": "MLtJflMGieeH"
      }
    },
    {
      "cell_type": "code",
      "source": [],
      "metadata": {
        "id": "b5nF0ZtgigY9"
      },
      "execution_count": null,
      "outputs": []
    },
    {
      "cell_type": "markdown",
      "source": [
        "##Queton_2"
      ],
      "metadata": {
        "id": "MHpGmfzl7b2t"
      }
    },
    {
      "cell_type": "markdown",
      "source": [
        "###Load"
      ],
      "metadata": {
        "id": "mj-zlCaFixOe"
      }
    },
    {
      "cell_type": "code",
      "source": [
        "rawdata = pd.read_csv('Question_2.csv')\n",
        "rawdata.info()"
      ],
      "metadata": {
        "id": "ek_0D-dy7fNh",
        "colab": {
          "base_uri": "https://localhost:8080/"
        },
        "outputId": "8fabec1c-8383-4c71-c84f-7856c5a64490"
      },
      "execution_count": null,
      "outputs": [
        {
          "output_type": "stream",
          "name": "stdout",
          "text": [
            "<class 'pandas.core.frame.DataFrame'>\n",
            "RangeIndex: 3650 entries, 0 to 3649\n",
            "Data columns (total 2 columns):\n",
            " #   Column  Non-Null Count  Dtype  \n",
            "---  ------  --------------  -----  \n",
            " 0   Date    3650 non-null   object \n",
            " 1   Temp    3650 non-null   float64\n",
            "dtypes: float64(1), object(1)\n",
            "memory usage: 57.2+ KB\n"
          ]
        }
      ]
    },
    {
      "cell_type": "code",
      "source": [],
      "metadata": {
        "id": "bdZp3xqAhEsd"
      },
      "execution_count": null,
      "outputs": []
    },
    {
      "cell_type": "markdown",
      "source": [
        "###Data Creation"
      ],
      "metadata": {
        "id": "1fo_sEzMi2Vk"
      }
    },
    {
      "cell_type": "code",
      "source": [],
      "metadata": {
        "id": "5kv1WRxri2pt"
      },
      "execution_count": null,
      "outputs": []
    },
    {
      "cell_type": "code",
      "source": [],
      "metadata": {
        "id": "19FI5oEhi2yN"
      },
      "execution_count": null,
      "outputs": []
    },
    {
      "cell_type": "code",
      "source": [],
      "metadata": {
        "id": "ytsyTswBi26o"
      },
      "execution_count": null,
      "outputs": []
    }
  ]
}