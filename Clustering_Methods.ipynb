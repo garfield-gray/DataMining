{
  "nbformat": 4,
  "nbformat_minor": 0,
  "metadata": {
    "colab": {
      "provenance": [],
      "mount_file_id": "1KOm1Wea3G8hLjGuDqyLyhvIF6ew-A-Wv",
      "authorship_tag": "ABX9TyO/meYM6eAQt47ZhT5zZb1z",
      "include_colab_link": true
    },
    "kernelspec": {
      "name": "python3",
      "display_name": "Python 3"
    },
    "language_info": {
      "name": "python"
    }
  },
  "cells": [
    {
      "cell_type": "markdown",
      "metadata": {
        "id": "view-in-github",
        "colab_type": "text"
      },
      "source": [
        "<a href=\"https://colab.research.google.com/github/garfield-gray/DataMining/blob/main/Clustering_Methods.ipynb\" target=\"_parent\"><img src=\"https://colab.research.google.com/assets/colab-badge.svg\" alt=\"Open In Colab\"/></a>"
      ]
    },
    {
      "cell_type": "code",
      "execution_count": 1,
      "metadata": {
        "id": "jEpE_VAxbHj2"
      },
      "outputs": [],
      "source": [
        "import numpy as np\n",
        "import pandas as pd\n",
        "import matplotlib.pyplot as plt\n",
        "import seaborn as sns\n",
        "import time\n"
      ]
    },
    {
      "cell_type": "markdown",
      "source": [
        "#Theoretical"
      ],
      "metadata": {
        "id": "xQHA7f2rbMyw"
      }
    },
    {
      "cell_type": "markdown",
      "source": [
        "##Question 1"
      ],
      "metadata": {
        "id": "oeHppxIveGW6"
      }
    },
    {
      "cell_type": "code",
      "source": [],
      "metadata": {
        "id": "sV7GOkZTbYY4"
      },
      "execution_count": null,
      "outputs": []
    },
    {
      "cell_type": "code",
      "source": [],
      "metadata": {
        "id": "cLn4D6FieKE7"
      },
      "execution_count": null,
      "outputs": []
    },
    {
      "cell_type": "code",
      "source": [],
      "metadata": {
        "id": "qdRCgRTyeKOJ"
      },
      "execution_count": null,
      "outputs": []
    },
    {
      "cell_type": "markdown",
      "source": [
        "##Question 2"
      ],
      "metadata": {
        "id": "qYUNOIgPeKlC"
      }
    },
    {
      "cell_type": "code",
      "source": [],
      "metadata": {
        "id": "hI9XE3uJbZIz"
      },
      "execution_count": null,
      "outputs": []
    },
    {
      "cell_type": "markdown",
      "source": [
        "#Imperical"
      ],
      "metadata": {
        "id": "VF7rKWn8bZ1Z"
      }
    },
    {
      "cell_type": "code",
      "source": [
        "# Address of files\n",
        "%cd /content/drive/MyDrive/Uni/Data/DataMining/Winter2024/CA#5\n",
        "!ls"
      ],
      "metadata": {
        "colab": {
          "base_uri": "https://localhost:8080/"
        },
        "id": "VKS5YS3sbcqY",
        "outputId": "bfd46183-1fa8-4e83-c8dc-8b4279142109"
      },
      "execution_count": 4,
      "outputs": [
        {
          "output_type": "stream",
          "name": "stdout",
          "text": [
            "/content/drive/MyDrive/Uni/Data/DataMining/Winter2024/CA#5\n",
            "CA5.pdf  Clustering_Methods.ipynb  data.csv\n"
          ]
        }
      ]
    },
    {
      "cell_type": "markdown",
      "source": [
        "##Play with Data"
      ],
      "metadata": {
        "id": "DZd3xKNPebB1"
      }
    },
    {
      "cell_type": "code",
      "source": [
        "df = pd.read_csv('data.csv')\n",
        "df.info()"
      ],
      "metadata": {
        "colab": {
          "base_uri": "https://localhost:8080/"
        },
        "id": "-tMNXV5Jdwsy",
        "outputId": "28a8a428-da44-4502-93b2-eb3cd9081a7c"
      },
      "execution_count": 5,
      "outputs": [
        {
          "output_type": "stream",
          "name": "stdout",
          "text": [
            "<class 'pandas.core.frame.DataFrame'>\n",
            "RangeIndex: 8950 entries, 0 to 8949\n",
            "Data columns (total 18 columns):\n",
            " #   Column                           Non-Null Count  Dtype  \n",
            "---  ------                           --------------  -----  \n",
            " 0   CLIENT_ID                        8950 non-null   object \n",
            " 1   ACCOUNT_BALANCE                  8950 non-null   float64\n",
            " 2   BALANCE_UPDATE_FREQUENCY         8950 non-null   float64\n",
            " 3   TOTAL_PURCHASES                  8950 non-null   float64\n",
            " 4   SINGLE_PURCHASE_AMOUNT           8950 non-null   float64\n",
            " 5   INSTALLMENT_PURCHASES_AMOUNT     8950 non-null   float64\n",
            " 6   ADVANCE_CASH_AMOUNT              8950 non-null   float64\n",
            " 7   PURCHASES_UPDATE_FREQUENCY       8950 non-null   float64\n",
            " 8   SINGLE_PURCHASE_FREQUENCY        8950 non-null   float64\n",
            " 9   INSTALLMENT_PURCHASES_FREQUENCY  8950 non-null   float64\n",
            " 10  CASH_ADVANCE_FREQUENCY           8950 non-null   float64\n",
            " 11  CASH_ADVANCE_TRANSACTIONS        8950 non-null   int64  \n",
            " 12  PURCHASES_TRANSACTION_COUNT      8950 non-null   int64  \n",
            " 13  CREDIT_MAXIMUM                   8949 non-null   float64\n",
            " 14  AMOUNT_PAID                      8950 non-null   float64\n",
            " 15  MINIMUM_PAYMENT_AMOUNT           8637 non-null   float64\n",
            " 16  FULL_PAYMENT_PERCENTAGE          8950 non-null   float64\n",
            " 17  CREDIT_CARD_TENURE               8950 non-null   int64  \n",
            "dtypes: float64(14), int64(3), object(1)\n",
            "memory usage: 1.2+ MB\n"
          ]
        }
      ]
    },
    {
      "cell_type": "code",
      "source": [],
      "metadata": {
        "id": "qD1a_E7jeepF"
      },
      "execution_count": null,
      "outputs": []
    },
    {
      "cell_type": "markdown",
      "source": [
        "##Preprpcessing"
      ],
      "metadata": {
        "id": "sWrXIjEIee40"
      }
    },
    {
      "cell_type": "code",
      "source": [],
      "metadata": {
        "id": "qzagDIRMemxP"
      },
      "execution_count": null,
      "outputs": []
    },
    {
      "cell_type": "code",
      "source": [],
      "metadata": {
        "id": "1wflUvEPeoq_"
      },
      "execution_count": null,
      "outputs": []
    },
    {
      "cell_type": "markdown",
      "source": [
        "##Clustering"
      ],
      "metadata": {
        "id": "kz74nTq0epOA"
      }
    },
    {
      "cell_type": "code",
      "source": [],
      "metadata": {
        "id": "58yXyqO1es3j"
      },
      "execution_count": null,
      "outputs": []
    }
  ]
}